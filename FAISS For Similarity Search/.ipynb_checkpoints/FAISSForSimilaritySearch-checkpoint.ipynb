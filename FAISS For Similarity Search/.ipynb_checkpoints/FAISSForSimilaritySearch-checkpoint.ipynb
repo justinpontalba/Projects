{
 "cells": [
  {
   "cell_type": "markdown",
   "id": "5073198d",
   "metadata": {},
   "source": [
    "## Disclaimer"
   ]
  },
  {
   "cell_type": "code",
   "execution_count": null,
   "id": "fc863318",
   "metadata": {},
   "outputs": [],
   "source": [
    "\"\"\"\n",
    "This notebook is based on the work here: https://medium.com/loopio-tech/how-to-use-faiss-to-build-your-first-similarity-search-bf0f708aa772\n",
    "Replicating it for the purpose of education and learning\n",
    "\"\"\""
   ]
  },
  {
   "cell_type": "markdown",
   "id": "da5efbd2",
   "metadata": {},
   "source": [
    "## Dependencies"
   ]
  },
  {
   "cell_type": "code",
   "execution_count": 4,
   "id": "b5e916d1",
   "metadata": {},
   "outputs": [
    {
     "data": {
      "text/plain": [
       "'\\nThis notebook is based on the work here: https://medium.com/loopio-tech/how-to-use-faiss-to-build-your-first-similarity-search-bf0f708aa772\\nReplicating it for the purpose of education and learning\\n'"
      ]
     },
     "execution_count": 4,
     "metadata": {},
     "output_type": "execute_result"
    }
   ],
   "source": [
    "import pandas as pd\n",
    "import numpy as np\n",
    "from sentence_transformers import SentenceTransformer\n",
    "import faiss"
   ]
  },
  {
   "cell_type": "markdown",
   "id": "c8e010c5",
   "metadata": {},
   "source": [
    "### Step 1: Create a dataframe with the existing text and categories"
   ]
  },
  {
   "cell_type": "code",
   "execution_count": 5,
   "id": "63ba4d87",
   "metadata": {},
   "outputs": [
    {
     "data": {
      "text/html": [
       "<div>\n",
       "<style scoped>\n",
       "    .dataframe tbody tr th:only-of-type {\n",
       "        vertical-align: middle;\n",
       "    }\n",
       "\n",
       "    .dataframe tbody tr th {\n",
       "        vertical-align: top;\n",
       "    }\n",
       "\n",
       "    .dataframe thead th {\n",
       "        text-align: right;\n",
       "    }\n",
       "</style>\n",
       "<table border=\"1\" class=\"dataframe\">\n",
       "  <thead>\n",
       "    <tr style=\"text-align: right;\">\n",
       "      <th></th>\n",
       "      <th>text</th>\n",
       "      <th>category</th>\n",
       "    </tr>\n",
       "  </thead>\n",
       "  <tbody>\n",
       "    <tr>\n",
       "      <th>0</th>\n",
       "      <td>Where are your headquarters located?</td>\n",
       "      <td>location</td>\n",
       "    </tr>\n",
       "    <tr>\n",
       "      <th>1</th>\n",
       "      <td>Throw my cellphone in the water</td>\n",
       "      <td>random</td>\n",
       "    </tr>\n",
       "    <tr>\n",
       "      <th>2</th>\n",
       "      <td>Network Access Control?</td>\n",
       "      <td>networking</td>\n",
       "    </tr>\n",
       "    <tr>\n",
       "      <th>3</th>\n",
       "      <td>Address</td>\n",
       "      <td>location</td>\n",
       "    </tr>\n",
       "  </tbody>\n",
       "</table>\n",
       "</div>"
      ],
      "text/plain": [
       "                                   text    category\n",
       "0  Where are your headquarters located?    location\n",
       "1       Throw my cellphone in the water      random\n",
       "2               Network Access Control?  networking\n",
       "3                               Address    location"
      ]
     },
     "metadata": {},
     "output_type": "display_data"
    }
   ],
   "source": [
    "data = [['Where are your headquarters located?', 'location'],\n",
    "['Throw my cellphone in the water', 'random'],\n",
    "['Network Access Control?', 'networking'],\n",
    "['Address', 'location']]\n",
    "df = pd.DataFrame(data, columns = ['text', 'category'])\n",
    "display(df)"
   ]
  },
  {
   "cell_type": "markdown",
   "id": "4390b4da",
   "metadata": {},
   "source": [
    "### Step 2: Create vectors from the text"
   ]
  },
  {
   "cell_type": "code",
   "execution_count": 8,
   "id": "385613f5",
   "metadata": {},
   "outputs": [],
   "source": [
    "text = df['text']\n",
    "encoder = SentenceTransformer(\"all-MiniLM-L6-v2\")\n",
    "vectors = encoder.encode(text)"
   ]
  },
  {
   "cell_type": "markdown",
   "id": "825d9a82",
   "metadata": {},
   "source": [
    "### Step 3: Build a FAISS index from the vectors"
   ]
  },
  {
   "cell_type": "code",
   "execution_count": 9,
   "id": "6754198a",
   "metadata": {},
   "outputs": [],
   "source": [
    "vector_dimension = vectors.shape[1]\n",
    "index = faiss.IndexFlatL2(vector_dimension)\n",
    "faiss.normalize_L2(vectors)\n",
    "index.add(vectors)"
   ]
  },
  {
   "cell_type": "markdown",
   "id": "d6a32e26",
   "metadata": {},
   "source": [
    "### Step 4: Create a search vector"
   ]
  },
  {
   "cell_type": "code",
   "execution_count": 11,
   "id": "a476669c",
   "metadata": {},
   "outputs": [],
   "source": [
    "search_text = 'where is your office?'\n",
    "search_vector = encoder.encode(search_text)\n",
    "_vector = np.array([search_vector])\n",
    "faiss.normalize_L2(_vector)"
   ]
  },
  {
   "cell_type": "markdown",
   "id": "a8335439",
   "metadata": {},
   "source": [
    "### Step 5: Search"
   ]
  },
  {
   "cell_type": "code",
   "execution_count": 12,
   "id": "98096f53",
   "metadata": {},
   "outputs": [],
   "source": [
    "k = index.ntotal\n",
    "distances, ann = index.search(_vector, k=k)"
   ]
  },
  {
   "cell_type": "markdown",
   "id": "27ae1017",
   "metadata": {},
   "source": [
    "### Step 6: Sort search results"
   ]
  },
  {
   "cell_type": "code",
   "execution_count": 14,
   "id": "2fe2b06d",
   "metadata": {},
   "outputs": [
    {
     "data": {
      "text/html": [
       "<div>\n",
       "<style scoped>\n",
       "    .dataframe tbody tr th:only-of-type {\n",
       "        vertical-align: middle;\n",
       "    }\n",
       "\n",
       "    .dataframe tbody tr th {\n",
       "        vertical-align: top;\n",
       "    }\n",
       "\n",
       "    .dataframe thead th {\n",
       "        text-align: right;\n",
       "    }\n",
       "</style>\n",
       "<table border=\"1\" class=\"dataframe\">\n",
       "  <thead>\n",
       "    <tr style=\"text-align: right;\">\n",
       "      <th></th>\n",
       "      <th>distances</th>\n",
       "      <th>ann</th>\n",
       "    </tr>\n",
       "  </thead>\n",
       "  <tbody>\n",
       "    <tr>\n",
       "      <th>0</th>\n",
       "      <td>0.575452</td>\n",
       "      <td>0</td>\n",
       "    </tr>\n",
       "    <tr>\n",
       "      <th>1</th>\n",
       "      <td>1.183322</td>\n",
       "      <td>3</td>\n",
       "    </tr>\n",
       "    <tr>\n",
       "      <th>2</th>\n",
       "      <td>1.565560</td>\n",
       "      <td>1</td>\n",
       "    </tr>\n",
       "    <tr>\n",
       "      <th>3</th>\n",
       "      <td>1.759201</td>\n",
       "      <td>2</td>\n",
       "    </tr>\n",
       "  </tbody>\n",
       "</table>\n",
       "</div>"
      ],
      "text/plain": [
       "   distances  ann\n",
       "0   0.575452    0\n",
       "1   1.183322    3\n",
       "2   1.565560    1\n",
       "3   1.759201    2"
      ]
     },
     "metadata": {},
     "output_type": "display_data"
    }
   ],
   "source": [
    "results = pd.DataFrame({'distances': distances[0], 'ann': ann[0]})\n",
    "display(results)"
   ]
  },
  {
   "cell_type": "markdown",
   "id": "3efa3738",
   "metadata": {},
   "source": [
    "### Step 7: Get category for the search text"
   ]
  },
  {
   "cell_type": "code",
   "execution_count": 16,
   "id": "2e78f3c4",
   "metadata": {},
   "outputs": [
    {
     "data": {
      "text/html": [
       "<div>\n",
       "<style scoped>\n",
       "    .dataframe tbody tr th:only-of-type {\n",
       "        vertical-align: middle;\n",
       "    }\n",
       "\n",
       "    .dataframe tbody tr th {\n",
       "        vertical-align: top;\n",
       "    }\n",
       "\n",
       "    .dataframe thead th {\n",
       "        text-align: right;\n",
       "    }\n",
       "</style>\n",
       "<table border=\"1\" class=\"dataframe\">\n",
       "  <thead>\n",
       "    <tr style=\"text-align: right;\">\n",
       "      <th></th>\n",
       "      <th>distances</th>\n",
       "      <th>ann</th>\n",
       "      <th>text</th>\n",
       "      <th>category</th>\n",
       "    </tr>\n",
       "  </thead>\n",
       "  <tbody>\n",
       "    <tr>\n",
       "      <th>0</th>\n",
       "      <td>0.575452</td>\n",
       "      <td>0</td>\n",
       "      <td>Where are your headquarters located?</td>\n",
       "      <td>location</td>\n",
       "    </tr>\n",
       "    <tr>\n",
       "      <th>1</th>\n",
       "      <td>1.183322</td>\n",
       "      <td>3</td>\n",
       "      <td>Address</td>\n",
       "      <td>location</td>\n",
       "    </tr>\n",
       "    <tr>\n",
       "      <th>2</th>\n",
       "      <td>1.565560</td>\n",
       "      <td>1</td>\n",
       "      <td>Throw my cellphone in the water</td>\n",
       "      <td>random</td>\n",
       "    </tr>\n",
       "    <tr>\n",
       "      <th>3</th>\n",
       "      <td>1.759201</td>\n",
       "      <td>2</td>\n",
       "      <td>Network Access Control?</td>\n",
       "      <td>networking</td>\n",
       "    </tr>\n",
       "  </tbody>\n",
       "</table>\n",
       "</div>"
      ],
      "text/plain": [
       "   distances  ann                                  text    category\n",
       "0   0.575452    0  Where are your headquarters located?    location\n",
       "1   1.183322    3                               Address    location\n",
       "2   1.565560    1       Throw my cellphone in the water      random\n",
       "3   1.759201    2               Network Access Control?  networking"
      ]
     },
     "metadata": {},
     "output_type": "display_data"
    }
   ],
   "source": [
    "merge = pd.merge(results, df, left_on='ann', right_index=True)\n",
    "display(merge)"
   ]
  },
  {
   "cell_type": "code",
   "execution_count": 17,
   "id": "b08e5ac4",
   "metadata": {},
   "outputs": [],
   "source": [
    "labels  = df['category']\n",
    "category = labels[ann[0][0]]"
   ]
  },
  {
   "cell_type": "code",
   "execution_count": 22,
   "id": "da9cec16",
   "metadata": {},
   "outputs": [
    {
     "name": "stdout",
     "output_type": "stream",
     "text": [
      "This will give us the category of **location** for our search text “Where is your office?”\n"
     ]
    }
   ],
   "source": [
    "print(f\"This will give us the category of **{category}** for our search text “Where is your office?”\")"
   ]
  },
  {
   "cell_type": "code",
   "execution_count": null,
   "id": "586bdcf1",
   "metadata": {},
   "outputs": [],
   "source": []
  }
 ],
 "metadata": {
  "kernelspec": {
   "display_name": "Python 3 (ipykernel)",
   "language": "python",
   "name": "python3"
  },
  "language_info": {
   "codemirror_mode": {
    "name": "ipython",
    "version": 3
   },
   "file_extension": ".py",
   "mimetype": "text/x-python",
   "name": "python",
   "nbconvert_exporter": "python",
   "pygments_lexer": "ipython3",
   "version": "3.11.3"
  }
 },
 "nbformat": 4,
 "nbformat_minor": 5
}
