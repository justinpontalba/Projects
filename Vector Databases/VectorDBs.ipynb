{
 "cells": [
  {
   "cell_type": "markdown",
   "id": "5a2b32ff",
   "metadata": {},
   "source": [
    "## Demo of VectorDB"
   ]
  },
  {
   "cell_type": "code",
   "execution_count": 15,
   "id": "2fb57726",
   "metadata": {},
   "outputs": [],
   "source": [
    "from vectordb import Memory\n",
    "\n",
    "memory = Memory(chunking_strategy={'mode':'sliding_window', 'window_size': 128, 'overlap': 16})\n",
    "\n",
    "text = \"\"\"\n",
    "Machine learning is a method of data analysis that automates analytical model building.\n",
    "\n",
    "It is a branch of artificial intelligence based on the idea that systems can learn from data,\n",
    "identify patterns and make decisions with minimal human intervention.\n",
    "\n",
    "Machine learning algorithms are trained on data sets that contain examples of the desired output. For example, a machine learning algorithm that is used to classify images might be trained on a data set that contains images of cats and dogs.\n",
    "Once an algorithm is trained, it can be used to make predictions on new data. For example, the machine learning algorithm that is used to classify images could be used to predict whether a new image contains a cat or a dog.\n",
    "\n",
    "Machine learning algorithms can be used to solve a wide variety of problems. Some common applications of machine learning include:\n",
    "\n",
    "Classification: Categorizing data into different groups. For example, a machine learning algorithm could be used to classify emails as spam or not spam.\n",
    "\n",
    "Regression: Predicting a continuous value. For example, a machine learning algorithm could be used to predict the price of a house.\n",
    "\n",
    "Clustering: Finding groups of similar data points. For example, a machine learning algorithm could be used to find groups of customers with similar buying habits.\n",
    "\n",
    "Anomaly detection: Finding data points that are different from the rest of the data. For example, a machine learning algorithm could be used to find fraudulent credit card transactions.\n",
    "\n",
    "Machine learning is a powerful tool that can be used to solve a wide variety of problems. As the amount of data available continues to grow, machine learning is likely to become even more important in the future.\n",
    "\n",
    "\"\"\"\n",
    "\n",
    "metadata = {\"title\": \"Introduction to Machine Learning\", \"url\": \"https://example.com/introduction-to-machine-learning\"}\n",
    "\n",
    "memory.save(text, metadata)\n",
    "\n",
    "text2 = \"\"\"\n",
    "Artificial intelligence (AI) is the simulation of human intelligence in machines\n",
    "that are programmed to think like humans and mimic their actions.\n",
    "\n",
    "The term may also be applied to any machine that exhibits traits associated with\n",
    "a human mind such as learning and problem-solving.\n",
    "\n",
    "AI research has been highly successful in developing effective techniques for solving a wide range of problems, from game playing to medical diagnosis.\n",
    "\n",
    "However, there is still a long way to go before AI can truly match the intelligence of humans. One of the main challenges is that human intelligence is incredibly complex and poorly understood.\n",
    "\n",
    "Despite the challenges, AI is a rapidly growing field with the potential to revolutionize many aspects of our lives. Some of the potential benefits of AI include:\n",
    "\n",
    "Increased productivity: AI can be used to automate tasks that are currently performed by humans, freeing up our time for more creative and fulfilling activities.\n",
    "\n",
    "Improved decision-making: AI can be used to make more informed decisions, based on a wider range of data than humans can typically access.\n",
    "\n",
    "Enhanced creativity: AI can be used to generate new ideas and solutions, beyond what humans can imagine on their own.\n",
    "Of course, there are also potential risks associated with AI, such as:\n",
    "\n",
    "Job displacement: As AI becomes more capable, it is possible that it will displace some human workers.\n",
    "\n",
    "Weaponization: AI could be used to develop new weapons that are more powerful and destructive than anything we have today.\n",
    "\n",
    "Loss of control: If AI becomes too powerful, we may lose control over it, with potentially disastrous consequences.\n",
    "\n",
    "It is important to weigh the potential benefits and risks of AI carefully as we continue to develop this technology. With careful planning and oversight, AI has the potential to make the world a better place. However, if we are not careful, it could also lead to serious problems.\n",
    "\"\"\"\n",
    "\n",
    "metadata2 = {\"title\": \"Introduction to Artificial Intelligence\", \"url\": \"https://example.com/introduction-to-artificial-intelligence\"}\n",
    "\n",
    "memory.save(text2, metadata2)"
   ]
  },
  {
   "cell_type": "code",
   "execution_count": 16,
   "id": "caae386a",
   "metadata": {},
   "outputs": [
    {
     "name": "stdout",
     "output_type": "stream",
     "text": [
      "[{'chunk': 'Machine learning is a method of data analysis that automates analytical model building . It is a branch of artificial intelligence based on the idea that systems can learn from data , identify patterns and make decisions with minimal human intervention . Machine learning algorithms are trained on data sets that contain examples of the desired output . For example , a machine learning algorithm that is used to classify images might be trained on a data set that contains images of cats and dogs . Once an algorithm is trained , it can be used to make predictions on new data . For example , the machine learning algorithm that is used to classify images could be used to predict whether a new image contains a cat', 'metadata': {'title': 'Introduction to Machine Learning', 'url': 'https://example.com/introduction-to-machine-learning'}}, {'chunk': 'Artificial intelligence ( AI ) is the simulation of human intelligence in machines that are programmed to think like humans and mimic their actions . The term may also be applied to any machine that exhibits traits associated with a human mind such as learning and problem - solving . AI research has been highly successful in developing effective techniques for solving a wide range of problems , from game playing to medical diagnosis . However , there is still a long way to go before AI can truly match the intelligence of humans . One of the main challenges is that human intelligence is incredibly complex and poorly understood . Despite the challenges , AI is a rapidly growing field with the potential to revolutionize many aspects', 'metadata': {'title': 'Introduction to Artificial Intelligence', 'url': 'https://example.com/introduction-to-artificial-intelligence'}}, {'chunk': 'are also potential risks associated with AI , such as : Job displacement : As AI becomes more capable , it is possible that it will displace some human workers . Weaponization : AI could be used to develop new weapons that are more powerful and destructive than anything we have today . Loss of control : If AI becomes too powerful , we may lose control over it , with potentially disastrous consequences . It is important to weigh the potential benefits and risks of AI carefully as we continue to develop this technology . With careful planning and oversight , AI has the potential to make the world a better place . However , if we are not careful , it could also lead to serious', 'metadata': {'title': 'Introduction to Artificial Intelligence', 'url': 'https://example.com/introduction-to-artificial-intelligence'}}]\n"
     ]
    }
   ],
   "source": [
    "query = \"What is the relationship between AI and machine learning?\"\n",
    "\n",
    "results = memory.search(query, top_n=3)\n",
    "\n",
    "print(results)"
   ]
  },
  {
   "cell_type": "code",
   "execution_count": null,
   "id": "ac16b29a",
   "metadata": {},
   "outputs": [],
   "source": []
  }
 ],
 "metadata": {
  "kernelspec": {
   "display_name": "Python 3 (ipykernel)",
   "language": "python",
   "name": "python3"
  },
  "language_info": {
   "codemirror_mode": {
    "name": "ipython",
    "version": 3
   },
   "file_extension": ".py",
   "mimetype": "text/x-python",
   "name": "python",
   "nbconvert_exporter": "python",
   "pygments_lexer": "ipython3",
   "version": "3.11.3"
  }
 },
 "nbformat": 4,
 "nbformat_minor": 5
}
